{
  "nbformat": 4,
  "nbformat_minor": 0,
  "metadata": {
    "colab": {
      "name": "Airline_crew_scheduling.ipynb",
      "provenance": []
    },
    "kernelspec": {
      "name": "python3",
      "display_name": "Python 3"
    },
    "language_info": {
      "name": "python"
    }
  },
  "cells": [
    {
      "cell_type": "code",
      "metadata": {
        "id": "zl2aZHng8Hpc"
      },
      "source": [
        "!pip install -q pyomo"
      ],
      "execution_count": 1,
      "outputs": []
    },
    {
      "cell_type": "code",
      "metadata": {
        "id": "xYy1hZ8l8RX4"
      },
      "source": [
        "from pyomo.environ import *\n",
        "import numpy as np\n",
        "import pandas as pd\n",
        "!apt-get install -y -qq glpk-utils\n",
        "solver = SolverFactory('glpk', executable='/usr/bin/glpsol')"
      ],
      "execution_count": 2,
      "outputs": []
    },
    {
      "cell_type": "code",
      "metadata": {
        "id": "xC4Lawg78meN"
      },
      "source": [
        "matrix_A = pd.read_csv(\"/content/incidence_matrix.csv\")"
      ],
      "execution_count": 3,
      "outputs": []
    },
    {
      "cell_type": "code",
      "metadata": {
        "colab": {
          "base_uri": "https://localhost:8080/",
          "height": 343
        },
        "id": "fXVl-E7c9uje",
        "outputId": "b2ecbddf-5815-43a4-89fd-d700c92c2fee"
      },
      "source": [
        "matrix_A.head(11)"
      ],
      "execution_count": 4,
      "outputs": [
        {
          "output_type": "execute_result",
          "data": {
            "text/html": [
              "<div>\n",
              "<style scoped>\n",
              "    .dataframe tbody tr th:only-of-type {\n",
              "        vertical-align: middle;\n",
              "    }\n",
              "\n",
              "    .dataframe tbody tr th {\n",
              "        vertical-align: top;\n",
              "    }\n",
              "\n",
              "    .dataframe thead th {\n",
              "        text-align: right;\n",
              "    }\n",
              "</style>\n",
              "<table border=\"1\" class=\"dataframe\">\n",
              "  <thead>\n",
              "    <tr style=\"text-align: right;\">\n",
              "      <th></th>\n",
              "      <th>Unnamed: 0</th>\n",
              "      <th>1</th>\n",
              "      <th>2</th>\n",
              "      <th>3</th>\n",
              "      <th>4</th>\n",
              "      <th>5</th>\n",
              "      <th>6</th>\n",
              "      <th>7</th>\n",
              "      <th>8</th>\n",
              "    </tr>\n",
              "  </thead>\n",
              "  <tbody>\n",
              "    <tr>\n",
              "      <th>0</th>\n",
              "      <td>1</td>\n",
              "      <td>1</td>\n",
              "      <td>0</td>\n",
              "      <td>0</td>\n",
              "      <td>1</td>\n",
              "      <td>0</td>\n",
              "      <td>0</td>\n",
              "      <td>1</td>\n",
              "      <td>0</td>\n",
              "    </tr>\n",
              "    <tr>\n",
              "      <th>1</th>\n",
              "      <td>2</td>\n",
              "      <td>0</td>\n",
              "      <td>1</td>\n",
              "      <td>0</td>\n",
              "      <td>0</td>\n",
              "      <td>1</td>\n",
              "      <td>0</td>\n",
              "      <td>0</td>\n",
              "      <td>0</td>\n",
              "    </tr>\n",
              "    <tr>\n",
              "      <th>2</th>\n",
              "      <td>3</td>\n",
              "      <td>0</td>\n",
              "      <td>0</td>\n",
              "      <td>1</td>\n",
              "      <td>0</td>\n",
              "      <td>0</td>\n",
              "      <td>1</td>\n",
              "      <td>0</td>\n",
              "      <td>1</td>\n",
              "    </tr>\n",
              "    <tr>\n",
              "      <th>3</th>\n",
              "      <td>4</td>\n",
              "      <td>1</td>\n",
              "      <td>0</td>\n",
              "      <td>0</td>\n",
              "      <td>1</td>\n",
              "      <td>0</td>\n",
              "      <td>0</td>\n",
              "      <td>0</td>\n",
              "      <td>0</td>\n",
              "    </tr>\n",
              "    <tr>\n",
              "      <th>4</th>\n",
              "      <td>5</td>\n",
              "      <td>0</td>\n",
              "      <td>0</td>\n",
              "      <td>1</td>\n",
              "      <td>1</td>\n",
              "      <td>0</td>\n",
              "      <td>1</td>\n",
              "      <td>0</td>\n",
              "      <td>0</td>\n",
              "    </tr>\n",
              "    <tr>\n",
              "      <th>5</th>\n",
              "      <td>6</td>\n",
              "      <td>0</td>\n",
              "      <td>1</td>\n",
              "      <td>0</td>\n",
              "      <td>1</td>\n",
              "      <td>0</td>\n",
              "      <td>1</td>\n",
              "      <td>0</td>\n",
              "      <td>0</td>\n",
              "    </tr>\n",
              "    <tr>\n",
              "      <th>6</th>\n",
              "      <td>7</td>\n",
              "      <td>0</td>\n",
              "      <td>0</td>\n",
              "      <td>1</td>\n",
              "      <td>0</td>\n",
              "      <td>1</td>\n",
              "      <td>0</td>\n",
              "      <td>0</td>\n",
              "      <td>0</td>\n",
              "    </tr>\n",
              "    <tr>\n",
              "      <th>7</th>\n",
              "      <td>8</td>\n",
              "      <td>0</td>\n",
              "      <td>0</td>\n",
              "      <td>1</td>\n",
              "      <td>0</td>\n",
              "      <td>1</td>\n",
              "      <td>0</td>\n",
              "      <td>1</td>\n",
              "      <td>0</td>\n",
              "    </tr>\n",
              "    <tr>\n",
              "      <th>8</th>\n",
              "      <td>9</td>\n",
              "      <td>0</td>\n",
              "      <td>1</td>\n",
              "      <td>0</td>\n",
              "      <td>1</td>\n",
              "      <td>0</td>\n",
              "      <td>1</td>\n",
              "      <td>0</td>\n",
              "      <td>0</td>\n",
              "    </tr>\n",
              "    <tr>\n",
              "      <th>9</th>\n",
              "      <td>10</td>\n",
              "      <td>1</td>\n",
              "      <td>0</td>\n",
              "      <td>0</td>\n",
              "      <td>0</td>\n",
              "      <td>0</td>\n",
              "      <td>0</td>\n",
              "      <td>0</td>\n",
              "      <td>1</td>\n",
              "    </tr>\n",
              "  </tbody>\n",
              "</table>\n",
              "</div>"
            ],
            "text/plain": [
              "   Unnamed: 0  1  2  3  4  5  6  7  8\n",
              "0           1  1  0  0  1  0  0  1  0\n",
              "1           2  0  1  0  0  1  0  0  0\n",
              "2           3  0  0  1  0  0  1  0  1\n",
              "3           4  1  0  0  1  0  0  0  0\n",
              "4           5  0  0  1  1  0  1  0  0\n",
              "5           6  0  1  0  1  0  1  0  0\n",
              "6           7  0  0  1  0  1  0  0  0\n",
              "7           8  0  0  1  0  1  0  1  0\n",
              "8           9  0  1  0  1  0  1  0  0\n",
              "9          10  1  0  0  0  0  0  0  1"
            ]
          },
          "metadata": {
            "tags": []
          },
          "execution_count": 4
        }
      ]
    },
    {
      "cell_type": "code",
      "metadata": {
        "colab": {
          "base_uri": "https://localhost:8080/"
        },
        "id": "uDepj3O8Bd5a",
        "outputId": "823d9e89-2970-4e33-dd3d-d14923373e79"
      },
      "source": [
        "data = matrix_A.iloc[:,1:]\n",
        "print(data)"
      ],
      "execution_count": 5,
      "outputs": [
        {
          "output_type": "stream",
          "text": [
            "   1  2  3  4  5  6  7  8\n",
            "0  1  0  0  1  0  0  1  0\n",
            "1  0  1  0  0  1  0  0  0\n",
            "2  0  0  1  0  0  1  0  1\n",
            "3  1  0  0  1  0  0  0  0\n",
            "4  0  0  1  1  0  1  0  0\n",
            "5  0  1  0  1  0  1  0  0\n",
            "6  0  0  1  0  1  0  0  0\n",
            "7  0  0  1  0  1  0  1  0\n",
            "8  0  1  0  1  0  1  0  0\n",
            "9  1  0  0  0  0  0  0  1\n"
          ],
          "name": "stdout"
        }
      ]
    },
    {
      "cell_type": "code",
      "metadata": {
        "id": "4v7WtVxv_A7p"
      },
      "source": [
        "#cost\n",
        "C = [5,4,4,9,7,8,3,3]"
      ],
      "execution_count": 6,
      "outputs": []
    },
    {
      "cell_type": "code",
      "metadata": {
        "id": "suqPmojH9xC8"
      },
      "source": [
        "model = ConcreteModel()"
      ],
      "execution_count": 7,
      "outputs": []
    },
    {
      "cell_type": "code",
      "metadata": {
        "colab": {
          "base_uri": "https://localhost:8080/"
        },
        "id": "Fx9yAkpe-j4E",
        "outputId": "e7554883-af82-47c4-a49f-124e88d58c2a"
      },
      "source": [
        "col = range(len(C)) #col  indices\n",
        "print(col)"
      ],
      "execution_count": 8,
      "outputs": [
        {
          "output_type": "stream",
          "text": [
            "range(0, 8)\n"
          ],
          "name": "stdout"
        }
      ]
    },
    {
      "cell_type": "code",
      "metadata": {
        "id": "D9lFaWx2-U6-"
      },
      "source": [
        "model.y = Var(col , domain = Binary)"
      ],
      "execution_count": 9,
      "outputs": []
    },
    {
      "cell_type": "code",
      "metadata": {
        "id": "4pnI89bh-15E"
      },
      "source": [
        "model.obj = Objective(expr = summation(C,model.y)  , sense = minimize)"
      ],
      "execution_count": 10,
      "outputs": []
    },
    {
      "cell_type": "code",
      "metadata": {
        "id": "fNeMf14hAC28"
      },
      "source": [
        "model.constr = ConstraintList()"
      ],
      "execution_count": 11,
      "outputs": []
    },
    {
      "cell_type": "code",
      "metadata": {
        "id": "bRdJXgqECs5y"
      },
      "source": [
        "rhs = [1,1,1,1,1,1,1,1,1,1] #set covering rhs"
      ],
      "execution_count": 12,
      "outputs": []
    },
    {
      "cell_type": "code",
      "metadata": {
        "id": "0OinLfrLCDJd"
      },
      "source": [
        "for i in range(10):\n",
        "  model.constr.add(expr = summation(data.iloc[i,:] , model.y) >= rhs[i])"
      ],
      "execution_count": 13,
      "outputs": []
    },
    {
      "cell_type": "code",
      "metadata": {
        "colab": {
          "base_uri": "https://localhost:8080/"
        },
        "id": "CyrQO68jC4bj",
        "outputId": "b9c76f84-68aa-4f2e-ea64-3ebb3e211cd1"
      },
      "source": [
        "model.pprint()"
      ],
      "execution_count": 14,
      "outputs": [
        {
          "output_type": "stream",
          "text": [
            "2 Set Declarations\n",
            "    constr_index : Size=1, Index=None, Ordered=Insertion\n",
            "        Key  : Dimen : Domain : Size : Members\n",
            "        None :     1 :    Any :   10 : {1, 2, 3, 4, 5, 6, 7, 8, 9, 10}\n",
            "    y_index : Size=1, Index=None, Ordered=False\n",
            "        Key  : Dimen : Domain : Size : Members\n",
            "        None :     1 :    Any :    8 : {0, 1, 2, 3, 4, 5, 6, 7}\n",
            "\n",
            "1 Var Declarations\n",
            "    y : Size=8, Index=y_index\n",
            "        Key : Lower : Value : Upper : Fixed : Stale : Domain\n",
            "          0 :     0 :  None :     1 : False :  True : Binary\n",
            "          1 :     0 :  None :     1 : False :  True : Binary\n",
            "          2 :     0 :  None :     1 : False :  True : Binary\n",
            "          3 :     0 :  None :     1 : False :  True : Binary\n",
            "          4 :     0 :  None :     1 : False :  True : Binary\n",
            "          5 :     0 :  None :     1 : False :  True : Binary\n",
            "          6 :     0 :  None :     1 : False :  True : Binary\n",
            "          7 :     0 :  None :     1 : False :  True : Binary\n",
            "\n",
            "1 Objective Declarations\n",
            "    obj : Size=1, Index=None, Active=True\n",
            "        Key  : Active : Sense    : Expression\n",
            "        None :   True : minimize : 5*y[0] + 4*y[1] + 4*y[2] + 9*y[3] + 7*y[4] + 8*y[5] + 3*y[6] + 3*y[7]\n",
            "\n",
            "1 Constraint Declarations\n",
            "    constr : Size=10, Index=constr_index, Active=True\n",
            "        Key : Lower : Body               : Upper : Active\n",
            "          1 :   1.0 : y[0] + y[3] + y[6] :  +Inf :   True\n",
            "          2 :   1.0 :        y[1] + y[4] :  +Inf :   True\n",
            "          3 :   1.0 : y[2] + y[5] + y[7] :  +Inf :   True\n",
            "          4 :   1.0 :        y[0] + y[3] :  +Inf :   True\n",
            "          5 :   1.0 : y[2] + y[3] + y[5] :  +Inf :   True\n",
            "          6 :   1.0 : y[1] + y[3] + y[5] :  +Inf :   True\n",
            "          7 :   1.0 :        y[2] + y[4] :  +Inf :   True\n",
            "          8 :   1.0 : y[2] + y[4] + y[6] :  +Inf :   True\n",
            "          9 :   1.0 : y[1] + y[3] + y[5] :  +Inf :   True\n",
            "         10 :   1.0 :        y[0] + y[7] :  +Inf :   True\n",
            "\n",
            "5 Declarations: y_index y obj constr_index constr\n"
          ],
          "name": "stdout"
        }
      ]
    },
    {
      "cell_type": "code",
      "metadata": {
        "id": "MFRUIBFLDhGr"
      },
      "source": [
        "result = solver.solve(model)"
      ],
      "execution_count": 15,
      "outputs": []
    },
    {
      "cell_type": "code",
      "metadata": {
        "colab": {
          "base_uri": "https://localhost:8080/"
        },
        "id": "BnHk7nRnD_ID",
        "outputId": "a0e0ab48-0641-4f50-d1bf-6ab5ef68e02f"
      },
      "source": [
        "print('Solver Termination Condition : ',result.solver.termination_condition)\n",
        "print('Solver Status : ' , result.solver.status)"
      ],
      "execution_count": 16,
      "outputs": [
        {
          "output_type": "stream",
          "text": [
            "Solver Termination Condition :  optimal\n",
            "Solver Status :  ok\n"
          ],
          "name": "stdout"
        }
      ]
    },
    {
      "cell_type": "code",
      "metadata": {
        "colab": {
          "base_uri": "https://localhost:8080/"
        },
        "id": "S0sM08_KEAsT",
        "outputId": "c59a030d-8399-4157-cc35-2a64bc13d2e6"
      },
      "source": [
        "print('optimal value of cost : ' , model.obj())\n",
        "print(\"\\nvariables\")\n",
        "for i in col :\n",
        "  print('value of y [',i+1,'] :' , model.y[i].value)"
      ],
      "execution_count": 17,
      "outputs": [
        {
          "output_type": "stream",
          "text": [
            "optimal value of cost :  13.0\n",
            "\n",
            "variables\n",
            "value of y [ 1 ] : 1.0\n",
            "value of y [ 2 ] : 1.0\n",
            "value of y [ 3 ] : 1.0\n",
            "value of y [ 4 ] : 0.0\n",
            "value of y [ 5 ] : 0.0\n",
            "value of y [ 6 ] : 0.0\n",
            "value of y [ 7 ] : 0.0\n",
            "value of y [ 8 ] : 0.0\n"
          ],
          "name": "stdout"
        }
      ]
    },
    {
      "cell_type": "code",
      "metadata": {
        "colab": {
          "base_uri": "https://localhost:8080/"
        },
        "id": "CPJJWR5bE_Ok",
        "outputId": "aa8654e3-9c0e-47c5-9903-9122198c016d"
      },
      "source": [
        "print(\"feasible flight sequence is :\")\n",
        "for i in col :\n",
        "  if (model.y[i] != 0 ) :\n",
        "    print('y[',i+1,']')\n"
      ],
      "execution_count": 18,
      "outputs": [
        {
          "output_type": "stream",
          "text": [
            "feasible flight sequence is :\n",
            "y[ 1 ]\n",
            "y[ 2 ]\n",
            "y[ 3 ]\n"
          ],
          "name": "stdout"
        }
      ]
    },
    {
      "cell_type": "code",
      "metadata": {
        "id": "HhaXbxO0F64m"
      },
      "source": [
        ""
      ],
      "execution_count": 18,
      "outputs": []
    }
  ]
}